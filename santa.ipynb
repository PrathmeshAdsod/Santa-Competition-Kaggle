{
 "cells": [
  {
   "cell_type": "code",
   "execution_count": 1,
   "id": "df393434",
   "metadata": {
    "_cell_guid": "b1076dfc-b9ad-4769-8c92-a6c4dae69d19",
    "_uuid": "8f2839f25d086af736a60e9eeb907d3b93b6e0e5",
    "execution": {
     "iopub.execute_input": "2024-12-01T10:57:04.105767Z",
     "iopub.status.busy": "2024-12-01T10:57:04.105377Z",
     "iopub.status.idle": "2024-12-01T10:57:05.158324Z",
     "shell.execute_reply": "2024-12-01T10:57:05.156997Z"
    },
    "papermill": {
     "duration": 1.060926,
     "end_time": "2024-12-01T10:57:05.160561",
     "exception": false,
     "start_time": "2024-12-01T10:57:04.099635",
     "status": "completed"
    },
    "tags": []
   },
   "outputs": [
    {
     "name": "stdout",
     "output_type": "stream",
     "text": [
      "/kaggle/input/santa-2024/sample_submission.csv\n"
     ]
    }
   ],
   "source": [
    "# This Python 3 environment comes with many helpful analytics libraries installed\n",
    "# It is defined by the kaggle/python Docker image: https://github.com/kaggle/docker-python\n",
    "# For example, here's several helpful packages to load\n",
    "\n",
    "import numpy as np # linear algebra\n",
    "import pandas as pd # data processing, CSV file I/O (e.g. pd.read_csv)\n",
    "\n",
    "# Input data files are available in the read-only \"../input/\" directory\n",
    "# For example, running this (by clicking run or pressing Shift+Enter) will list all files under the input directory\n",
    "\n",
    "import os\n",
    "for dirname, _, filenames in os.walk('/kaggle/input/santa-2024'):\n",
    "    for filename in filenames:\n",
    "        print(os.path.join(dirname, filename))\n",
    "\n",
    "# You can write up to 20GB to the current directory (/kaggle/working/) that gets preserved as output when you create a version using \"Save & Run All\" \n",
    "# You can also write temporary files to /kaggle/temp/, but they won't be saved outside of the current session"
   ]
  },
  {
   "cell_type": "code",
   "execution_count": 2,
   "id": "22be66f0",
   "metadata": {
    "execution": {
     "iopub.execute_input": "2024-12-01T10:57:05.169559Z",
     "iopub.status.busy": "2024-12-01T10:57:05.169104Z",
     "iopub.status.idle": "2024-12-01T10:57:05.192849Z",
     "shell.execute_reply": "2024-12-01T10:57:05.191719Z"
    },
    "papermill": {
     "duration": 0.03099,
     "end_time": "2024-12-01T10:57:05.195268",
     "exception": false,
     "start_time": "2024-12-01T10:57:05.164278",
     "status": "completed"
    },
    "tags": []
   },
   "outputs": [
    {
     "data": {
      "text/plain": [
       "'advent chimney elf family fireplace gingerbread mistletoe ornament reindeer scrooge walk give jump drive bake the sleep night laugh and yuletide decorations gifts cheer holiday carol magi nutcracker polar grinch sleigh chimney workshop stocking ornament holly jingle beard naughty nice sing cheer and of the is eat visit relax unwrap hohoho candle poinsettia snowglobe peppermint eggnog fruitcake chocolate candy puzzle game doll toy workshop wonder believe dream hope peace joy merry season greeting card wrapping paper bow fireplace night cookie milk star wish wreath angel the to of and in that have it not with as you from we kaggle'"
      ]
     },
     "execution_count": 2,
     "metadata": {},
     "output_type": "execute_result"
    }
   ],
   "source": [
    "sample_file = pd.read_csv('/kaggle/input/santa-2024/sample_submission.csv')\n",
    "sample_file['text'][5]"
   ]
  },
  {
   "cell_type": "code",
   "execution_count": 3,
   "id": "22a9143b",
   "metadata": {
    "execution": {
     "iopub.execute_input": "2024-12-01T10:57:05.204548Z",
     "iopub.status.busy": "2024-12-01T10:57:05.204203Z",
     "iopub.status.idle": "2024-12-01T10:57:05.209345Z",
     "shell.execute_reply": "2024-12-01T10:57:05.208326Z"
    },
    "papermill": {
     "duration": 0.011945,
     "end_time": "2024-12-01T10:57:05.211477",
     "exception": false,
     "start_time": "2024-12-01T10:57:05.199532",
     "status": "completed"
    },
    "tags": []
   },
   "outputs": [],
   "source": [
    "text6 = \"\"\"advent chimney elf family fireplace gingerbread mistletoe ornament reindeer scrooge walk give jump drive bake the sleep night laugh and yuletide decorations gifts cheer holiday carol magi nutcracker polar grinch sleigh chimney workshop stocking ornament holly jingle beard naughty nice sing cheer and of the is eat visit relax unwrap hohoho candle poinsettia snowglobe peppermint eggnog fruitcake chocolate candy puzzle game doll toy workshop wonder believe dream hope peace joy merry season greeting card wrapping paper bow fireplace night cookie milk star wish wreath angel the to of and in that have it not with as you from we kaggle\"\"\""
   ]
  },
  {
   "cell_type": "code",
   "execution_count": 4,
   "id": "a7e286e7",
   "metadata": {
    "execution": {
     "iopub.execute_input": "2024-12-01T10:57:05.220819Z",
     "iopub.status.busy": "2024-12-01T10:57:05.219852Z",
     "iopub.status.idle": "2024-12-01T10:57:05.226833Z",
     "shell.execute_reply": "2024-12-01T10:57:05.225788Z"
    },
    "papermill": {
     "duration": 0.013615,
     "end_time": "2024-12-01T10:57:05.228782",
     "exception": false,
     "start_time": "2024-12-01T10:57:05.215167",
     "status": "completed"
    },
    "tags": []
   },
   "outputs": [
    {
     "data": {
      "text/plain": [
       "10"
      ]
     },
     "execution_count": 4,
     "metadata": {},
     "output_type": "execute_result"
    }
   ],
   "source": [
    "len(sample_file['text'][0].split(\" \"))"
   ]
  },
  {
   "cell_type": "code",
   "execution_count": 5,
   "id": "38255fa9",
   "metadata": {
    "execution": {
     "iopub.execute_input": "2024-12-01T10:57:05.238299Z",
     "iopub.status.busy": "2024-12-01T10:57:05.237472Z",
     "iopub.status.idle": "2024-12-01T10:57:05.242190Z",
     "shell.execute_reply": "2024-12-01T10:57:05.241200Z"
    },
    "papermill": {
     "duration": 0.011826,
     "end_time": "2024-12-01T10:57:05.244424",
     "exception": false,
     "start_time": "2024-12-01T10:57:05.232598",
     "status": "completed"
    },
    "tags": []
   },
   "outputs": [],
   "source": [
    "text5 = \"hohoho merry season night that have joy peace kaggle poinsettia snowglobe wreath bow star peppermint with chocolate and candy fireplace candle fruitcake eggnog milk cookie card to workshop not dream greeting from we wonder of puzzle game doll toy in wrapping paper hope it believe as you wish the angel\""
   ]
  },
  {
   "cell_type": "code",
   "execution_count": 6,
   "id": "2600e5be",
   "metadata": {
    "execution": {
     "iopub.execute_input": "2024-12-01T10:57:05.254596Z",
     "iopub.status.busy": "2024-12-01T10:57:05.253726Z",
     "iopub.status.idle": "2024-12-01T10:57:05.260966Z",
     "shell.execute_reply": "2024-12-01T10:57:05.259691Z"
    },
    "papermill": {
     "duration": 0.014653,
     "end_time": "2024-12-01T10:57:05.263198",
     "exception": false,
     "start_time": "2024-12-01T10:57:05.248545",
     "status": "completed"
    },
    "tags": []
   },
   "outputs": [
    {
     "data": {
      "text/plain": [
       "50"
      ]
     },
     "execution_count": 6,
     "metadata": {},
     "output_type": "execute_result"
    }
   ],
   "source": [
    "len(text5.split(\" \"))"
   ]
  },
  {
   "cell_type": "code",
   "execution_count": 7,
   "id": "26c19946",
   "metadata": {
    "execution": {
     "iopub.execute_input": "2024-12-01T10:57:05.272770Z",
     "iopub.status.busy": "2024-12-01T10:57:05.272406Z",
     "iopub.status.idle": "2024-12-01T10:57:05.277423Z",
     "shell.execute_reply": "2024-12-01T10:57:05.276457Z"
    },
    "papermill": {
     "duration": 0.012455,
     "end_time": "2024-12-01T10:57:05.279562",
     "exception": false,
     "start_time": "2024-12-01T10:57:05.267107",
     "status": "completed"
    },
    "tags": []
   },
   "outputs": [],
   "source": [
    "#Yuletide decorations and gifts brought cheer to the holiday season.\n",
    "#The Magi and Nutcracker sang carols while the Grinch watched from his sleigh. \n",
    "#At the chimney, stockings hung, and ornaments sparkled. \n",
    "#People visited the workshop to unwrap gifts, eat, relax, and enjoy the moment of cheer.\n",
    "text4 = \"yuletide holly decorations cheer of holiday magi nutcracker sing nice carol and jingle naughty beard grinch sleigh chimney is stocking ornament polar workshop visit eat cheer relax unwrap the gifts\""
   ]
  },
  {
   "cell_type": "code",
   "execution_count": 8,
   "id": "b170aa05",
   "metadata": {
    "execution": {
     "iopub.execute_input": "2024-12-01T10:57:05.289243Z",
     "iopub.status.busy": "2024-12-01T10:57:05.288852Z",
     "iopub.status.idle": "2024-12-01T10:57:05.295569Z",
     "shell.execute_reply": "2024-12-01T10:57:05.294558Z"
    },
    "papermill": {
     "duration": 0.014085,
     "end_time": "2024-12-01T10:57:05.297750",
     "exception": false,
     "start_time": "2024-12-01T10:57:05.283665",
     "status": "completed"
    },
    "tags": []
   },
   "outputs": [
    {
     "data": {
      "text/plain": [
       "30"
      ]
     },
     "execution_count": 8,
     "metadata": {},
     "output_type": "execute_result"
    }
   ],
   "source": [
    "len(text4.split(\" \"))"
   ]
  },
  {
   "cell_type": "code",
   "execution_count": 9,
   "id": "27e46a44",
   "metadata": {
    "execution": {
     "iopub.execute_input": "2024-12-01T10:57:05.308290Z",
     "iopub.status.busy": "2024-12-01T10:57:05.307869Z",
     "iopub.status.idle": "2024-12-01T10:57:05.312765Z",
     "shell.execute_reply": "2024-12-01T10:57:05.311747Z"
    },
    "papermill": {
     "duration": 0.013169,
     "end_time": "2024-12-01T10:57:05.314959",
     "exception": false,
     "start_time": "2024-12-01T10:57:05.301790",
     "status": "completed"
    },
    "tags": []
   },
   "outputs": [],
   "source": [
    "#The yuletide decorations and gifts filled the holiday cheer, with carols sung \n",
    "#by the Magi and the Nutcracker. The Grinch stole the show, while the sleigh and \n",
    "#stockings hung by the chimney in the workshop. Holly jingle bells adorned the bearded figure, \n",
    "#marking who was naughty and nice.\"\"The yuletide decorations and gifts filled the holiday cheer,\n",
    "#with carols sung by the Magi and the Nutcracker. The Grinch stole the show, while the sleigh \n",
    "#and stockings hung by the chimney in the workshop.\n",
    "#Holly jingle bells adorned the bearded figure, marking who was naughty and nice.\n",
    "text3 = \"yuletide cheer holiday holly decorations ornament nutcracker carol naughty grinch magi stocking polar workshop sleigh jingle nice beard chimney gifts\""
   ]
  },
  {
   "cell_type": "code",
   "execution_count": 10,
   "id": "2ce43d72",
   "metadata": {
    "execution": {
     "iopub.execute_input": "2024-12-01T10:57:05.324367Z",
     "iopub.status.busy": "2024-12-01T10:57:05.324012Z",
     "iopub.status.idle": "2024-12-01T10:57:05.328450Z",
     "shell.execute_reply": "2024-12-01T10:57:05.327439Z"
    },
    "papermill": {
     "duration": 0.011399,
     "end_time": "2024-12-01T10:57:05.330387",
     "exception": false,
     "start_time": "2024-12-01T10:57:05.318988",
     "status": "completed"
    },
    "tags": []
   },
   "outputs": [],
   "source": [
    "#On Advent night, the elf family walked by the chimney, giving and jumping with joy,\n",
    "#while they baked gingerbread and ornaments by the fireplace. Scrooge laughed and slept peacefully.\n",
    "text2 = \"advent night family scrooge mistletoe ornament fireplace bake the gingerbread laugh sleep elf drive reindeer walk jump chimney and give\""
   ]
  },
  {
   "cell_type": "code",
   "execution_count": 11,
   "id": "52a67b72",
   "metadata": {
    "execution": {
     "iopub.execute_input": "2024-12-01T10:57:05.339745Z",
     "iopub.status.busy": "2024-12-01T10:57:05.339357Z",
     "iopub.status.idle": "2024-12-01T10:57:05.343901Z",
     "shell.execute_reply": "2024-12-01T10:57:05.342816Z"
    },
    "papermill": {
     "duration": 0.011467,
     "end_time": "2024-12-01T10:57:05.345858",
     "exception": false,
     "start_time": "2024-12-01T10:57:05.334391",
     "status": "completed"
    },
    "tags": []
   },
   "outputs": [],
   "source": [
    "#The elf family decorated the fireplace with gingerbread, \n",
    "#mistletoe, ornaments, and a reindeer, celebrating Advent in the Christmas season with Scrooge\n",
    "text1 = \"advent family scrooge mistletoe ornament gingerbread fireplace elf reindeer chimney\""
   ]
  },
  {
   "cell_type": "code",
   "execution_count": 12,
   "id": "6d98001b",
   "metadata": {
    "execution": {
     "iopub.execute_input": "2024-12-01T10:57:05.355055Z",
     "iopub.status.busy": "2024-12-01T10:57:05.354669Z",
     "iopub.status.idle": "2024-12-01T10:57:05.368496Z",
     "shell.execute_reply": "2024-12-01T10:57:05.367302Z"
    },
    "papermill": {
     "duration": 0.021306,
     "end_time": "2024-12-01T10:57:05.371085",
     "exception": false,
     "start_time": "2024-12-01T10:57:05.349779",
     "status": "completed"
    },
    "tags": []
   },
   "outputs": [],
   "source": [
    "id = [0,1,2,3,4,5]\n",
    "\n",
    "text = [\n",
    "    text1,text2,text3,text4,text5,text6\n",
    "]\n",
    "\n",
    "dict = {'id' : id, 'text' : text}\n",
    "df = pd.DataFrame(dict)\n",
    "\n",
    "df.to_csv('santa_submission_2.csv', index=False)"
   ]
  },
  {
   "cell_type": "code",
   "execution_count": 13,
   "id": "f224a6c1",
   "metadata": {
    "execution": {
     "iopub.execute_input": "2024-12-01T10:57:05.380858Z",
     "iopub.status.busy": "2024-12-01T10:57:05.380475Z",
     "iopub.status.idle": "2024-12-01T10:57:05.388810Z",
     "shell.execute_reply": "2024-12-01T10:57:05.387703Z"
    },
    "papermill": {
     "duration": 0.015655,
     "end_time": "2024-12-01T10:57:05.390903",
     "exception": false,
     "start_time": "2024-12-01T10:57:05.375248",
     "status": "completed"
    },
    "tags": []
   },
   "outputs": [
    {
     "name": "stdout",
     "output_type": "stream",
     "text": [
      "The words and their occurrences match exactly.\n"
     ]
    }
   ],
   "source": [
    "from collections import Counter\n",
    "\n",
    "def compare_word_occurrences(str1, str2):\n",
    "    # Split the strings into words and count their occurrences\n",
    "    count1 = Counter(str1.split())\n",
    "    count2 = Counter(str2.split())\n",
    "    \n",
    "    # Find mismatches\n",
    "    mismatched_words = {}\n",
    "    all_words = set(count1.keys()).union(set(count2.keys()))\n",
    "    \n",
    "    for word in all_words:\n",
    "        if count1[word] != count2[word]:\n",
    "            mismatched_words[word] = (count1[word], count2[word])\n",
    "    \n",
    "    # Check if all words match\n",
    "    if not mismatched_words:\n",
    "        return \"The words and their occurrences match exactly.\"\n",
    "    \n",
    "    return f\"Mismatched words: {mismatched_words}\"\n",
    "\n",
    "string1 = text6\n",
    "string2 = sample_file['text'][5]\n",
    "\n",
    "result = compare_word_occurrences(string1, string2)\n",
    "print(result)\n"
   ]
  },
  {
   "cell_type": "code",
   "execution_count": null,
   "id": "bcc59895",
   "metadata": {
    "papermill": {
     "duration": 0.003727,
     "end_time": "2024-12-01T10:57:05.398717",
     "exception": false,
     "start_time": "2024-12-01T10:57:05.394990",
     "status": "completed"
    },
    "tags": []
   },
   "outputs": [],
   "source": []
  }
 ],
 "metadata": {
  "kaggle": {
   "accelerator": "none",
   "dataSources": [
    {
     "databundleVersionId": 10229277,
     "sourceId": 88046,
     "sourceType": "competition"
    }
   ],
   "dockerImageVersionId": 30786,
   "isGpuEnabled": false,
   "isInternetEnabled": true,
   "language": "python",
   "sourceType": "notebook"
  },
  "kernelspec": {
   "display_name": "Python 3",
   "language": "python",
   "name": "python3"
  },
  "language_info": {
   "codemirror_mode": {
    "name": "ipython",
    "version": 3
   },
   "file_extension": ".py",
   "mimetype": "text/x-python",
   "name": "python",
   "nbconvert_exporter": "python",
   "pygments_lexer": "ipython3",
   "version": "3.10.14"
  },
  "papermill": {
   "default_parameters": {},
   "duration": 4.835759,
   "end_time": "2024-12-01T10:57:05.923183",
   "environment_variables": {},
   "exception": null,
   "input_path": "__notebook__.ipynb",
   "output_path": "__notebook__.ipynb",
   "parameters": {},
   "start_time": "2024-12-01T10:57:01.087424",
   "version": "2.6.0"
  }
 },
 "nbformat": 4,
 "nbformat_minor": 5
}
